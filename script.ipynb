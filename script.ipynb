{
 "cells": [
  {
   "cell_type": "code",
   "execution_count": 28,
   "metadata": {},
   "outputs": [
    {
     "name": "stdout",
     "output_type": "stream",
     "text": [
      "replace 5. Battery Data Set/1. BatteryAgingARC-FY08Q4.zip? [y]es, [n]o, [A]ll, [N]one, [r]ename: ^C\n"
     ]
    }
   ],
   "source": [
    "%config Completer.use_jedi = False\n",
    "%matplotlib inline\n",
    "!wget -cq https://phm-datasets.s3.amazonaws.com/NASA/5.+Battery+Data+Set.zip -O BatteryAgingARC_25_26_27_28_P1.zip\n",
    "!unzip -q BatteryAgingARC_25_26_27_28_P1.zip "
   ]
  },
  {
   "cell_type": "code",
   "execution_count": 6,
   "metadata": {},
   "outputs": [],
   "source": [
    "import datetime\n",
    "import numpy as np\n",
    "import pandas as pd\n",
    "from scipy.io import loadmat\n",
    "from sklearn.preprocessing import MinMaxScaler\n",
    "from sklearn.metrics import mean_squared_error\n",
    "from sklearn import metrics\n",
    "import matplotlib.pyplot as plt\n",
    "import seaborn as sns"
   ]
  },
  {
   "cell_type": "code",
   "execution_count": 27,
   "metadata": {},
   "outputs": [
    {
     "ename": "ValueError",
     "evalue": "Unknown mat file type, version 52, 46",
     "output_type": "error",
     "traceback": [
      "\u001b[0;31m---------------------------------------------------------------------------\u001b[0m",
      "\u001b[0;31mValueError\u001b[0m                                Traceback (most recent call last)",
      "Cell \u001b[0;32mIn[27], line 1\u001b[0m\n\u001b[0;32m----> 1\u001b[0m mat \u001b[39m=\u001b[39m loadmat(\u001b[39mu\u001b[39;49m\u001b[39m'\u001b[39;49m\u001b[39mBatteryAgingARC_25_26_27_28_P1.zip\u001b[39;49m\u001b[39m'\u001b[39;49m)\n\u001b[1;32m      2\u001b[0m \u001b[39m# def load_data(battery):\u001b[39;00m\n\u001b[1;32m      3\u001b[0m \n\u001b[1;32m      4\u001b[0m \n\u001b[0;32m   (...)\u001b[0m\n\u001b[1;32m     46\u001b[0m \u001b[39m# print(dataset.head())\u001b[39;00m\n\u001b[1;32m     47\u001b[0m \u001b[39m# dataset.describe()\u001b[39;00m\n",
      "File \u001b[0;32m~/.local/lib/python3.10/site-packages/scipy/io/matlab/_mio.py:226\u001b[0m, in \u001b[0;36mloadmat\u001b[0;34m(file_name, mdict, appendmat, **kwargs)\u001b[0m\n\u001b[1;32m    224\u001b[0m variable_names \u001b[39m=\u001b[39m kwargs\u001b[39m.\u001b[39mpop(\u001b[39m'\u001b[39m\u001b[39mvariable_names\u001b[39m\u001b[39m'\u001b[39m, \u001b[39mNone\u001b[39;00m)\n\u001b[1;32m    225\u001b[0m \u001b[39mwith\u001b[39;00m _open_file_context(file_name, appendmat) \u001b[39mas\u001b[39;00m f:\n\u001b[0;32m--> 226\u001b[0m     MR, _ \u001b[39m=\u001b[39m mat_reader_factory(f, \u001b[39m*\u001b[39;49m\u001b[39m*\u001b[39;49mkwargs)\n\u001b[1;32m    227\u001b[0m     matfile_dict \u001b[39m=\u001b[39m MR\u001b[39m.\u001b[39mget_variables(variable_names)\n\u001b[1;32m    229\u001b[0m \u001b[39mif\u001b[39;00m mdict \u001b[39mis\u001b[39;00m \u001b[39mnot\u001b[39;00m \u001b[39mNone\u001b[39;00m:\n",
      "File \u001b[0;32m~/.local/lib/python3.10/site-packages/scipy/io/matlab/_mio.py:74\u001b[0m, in \u001b[0;36mmat_reader_factory\u001b[0;34m(file_name, appendmat, **kwargs)\u001b[0m\n\u001b[1;32m     54\u001b[0m \u001b[39m\u001b[39m\u001b[39m\"\"\"\u001b[39;00m\n\u001b[1;32m     55\u001b[0m \u001b[39mCreate reader for matlab .mat format files.\u001b[39;00m\n\u001b[1;32m     56\u001b[0m \n\u001b[0;32m   (...)\u001b[0m\n\u001b[1;32m     71\u001b[0m \n\u001b[1;32m     72\u001b[0m \u001b[39m\"\"\"\u001b[39;00m\n\u001b[1;32m     73\u001b[0m byte_stream, file_opened \u001b[39m=\u001b[39m _open_file(file_name, appendmat)\n\u001b[0;32m---> 74\u001b[0m mjv, mnv \u001b[39m=\u001b[39m _get_matfile_version(byte_stream)\n\u001b[1;32m     75\u001b[0m \u001b[39mif\u001b[39;00m mjv \u001b[39m==\u001b[39m \u001b[39m0\u001b[39m:\n\u001b[1;32m     76\u001b[0m     \u001b[39mreturn\u001b[39;00m MatFile4Reader(byte_stream, \u001b[39m*\u001b[39m\u001b[39m*\u001b[39mkwargs), file_opened\n",
      "File \u001b[0;32m~/.local/lib/python3.10/site-packages/scipy/io/matlab/_miobase.py:251\u001b[0m, in \u001b[0;36m_get_matfile_version\u001b[0;34m(fileobj)\u001b[0m\n\u001b[1;32m    249\u001b[0m \u001b[39mif\u001b[39;00m maj_val \u001b[39min\u001b[39;00m (\u001b[39m1\u001b[39m, \u001b[39m2\u001b[39m):\n\u001b[1;32m    250\u001b[0m     \u001b[39mreturn\u001b[39;00m ret\n\u001b[0;32m--> 251\u001b[0m \u001b[39mraise\u001b[39;00m \u001b[39mValueError\u001b[39;00m(\u001b[39m'\u001b[39m\u001b[39mUnknown mat file type, version \u001b[39m\u001b[39m%s\u001b[39;00m\u001b[39m, \u001b[39m\u001b[39m%s\u001b[39;00m\u001b[39m'\u001b[39m \u001b[39m%\u001b[39m ret)\n",
      "\u001b[0;31mValueError\u001b[0m: Unknown mat file type, version 52, 46"
     ]
    }
   ],
   "source": [
    "mat = loadmat(u'BatteryAgingARC_25_26_27_28_P1.zip')\n",
    "# def load_data(battery):\n",
    "\n",
    "\n",
    "\n",
    "#   print('Total data in dataset: ', len(mat[battery][0, 0]['cycle'][0]))\n",
    "#   counter = 0\n",
    "#   dataset = []\n",
    "#   capacity_data = []\n",
    "  \n",
    "#   for i in range(len(mat[battery][0, 0]['cycle'][0])):\n",
    "#     row = mat[battery][0, 0]['cycle'][0, i]\n",
    "#     if row['type'][0] == 'discharge':\n",
    "#       ambient_temperature = row['ambient_temperature'][0][0]\n",
    "#       date_time = datetime.datetime(int(row['time'][0][0]),\n",
    "#                                int(row['time'][0][1]),\n",
    "#                                int(row['time'][0][2]),\n",
    "#                                int(row['time'][0][3]),\n",
    "#                                int(row['time'][0][4])) + datetime.timedelta(seconds=int(row['time'][0][5]))\n",
    "#       data = row['data']\n",
    "#       capacity = data[0][0]['Capacity'][0][0]\n",
    "#       for j in range(len(data[0][0]['Voltage_measured'][0])):\n",
    "#         voltage_measured = data[0][0]['Voltage_measured'][0][j]\n",
    "#         current_measured = data[0][0]['Current_measured'][0][j]\n",
    "#         temperature_measured = data[0][0]['Temperature_measured'][0][j]\n",
    "#         current_load = data[0][0]['Current_load'][0][j]\n",
    "#         voltage_load = data[0][0]['Voltage_load'][0][j]\n",
    "#         time = data[0][0]['Time'][0][j]\n",
    "#         dataset.append([counter + 1, ambient_temperature, date_time, capacity,\n",
    "#                         voltage_measured, current_measured,\n",
    "#                         temperature_measured, current_load,\n",
    "#                         voltage_load, time])\n",
    "#       capacity_data.append([counter + 1, ambient_temperature, date_time, capacity])\n",
    "#       counter = counter + 1\n",
    "#   print(dataset[0])\n",
    "#   return [pd.DataFrame(data=dataset,\n",
    "#                        columns=['cycle', 'ambient_temperature', 'datetime',\n",
    "#                                 'capacity', 'voltage_measured',\n",
    "#                                 'current_measured', 'temperature_measured',\n",
    "#                                 'current_load', 'voltage_load', 'time']),\n",
    "#           pd.DataFrame(data=capacity_data,\n",
    "#                        columns=['cycle', 'ambient_temperature', 'datetime',\n",
    "#                                 'capacity'])]\n",
    "# dataset, capacity = load_data('B0005')\n",
    "# pd.set_option('display.max_columns', 10)\n",
    "# print(dataset.head())\n",
    "# dataset.describe()"
   ]
  },
  {
   "cell_type": "code",
   "execution_count": null,
   "metadata": {},
   "outputs": [],
   "source": []
  }
 ],
 "metadata": {
  "kernelspec": {
   "display_name": "Python 3",
   "language": "python",
   "name": "python3"
  },
  "language_info": {
   "codemirror_mode": {
    "name": "ipython",
    "version": 3
   },
   "file_extension": ".py",
   "mimetype": "text/x-python",
   "name": "python",
   "nbconvert_exporter": "python",
   "pygments_lexer": "ipython3",
   "version": "3.10.4"
  },
  "orig_nbformat": 4
 },
 "nbformat": 4,
 "nbformat_minor": 2
}
