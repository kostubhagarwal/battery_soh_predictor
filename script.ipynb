{
 "cells": [
  {
   "cell_type": "code",
   "execution_count": 1,
   "metadata": {},
   "outputs": [
    {
     "name": "stdout",
     "output_type": "stream",
     "text": [
      "wget: option '--q' is ambiguous; possibilities: '--quiet' '--quota'\n",
      "Usage: wget [OPTION]... [URL]...\n",
      "\n",
      "Try `wget --help' for more options.\n",
      "unzip:  cannot find or open battery_data.zip, battery_data.zip.zip or battery_data.zip.ZIP.\n",
      "rm: cannot remove 'battery_data.zip': No such file or directory\n",
      "Archive:  ./3. BatteryAgingARC_25-44.zip\n",
      "  inflating: README_33_34_36.txt     \n",
      "  inflating: README_38_39_40.txt     \n",
      "  inflating: README_41_42_43_44.txt  \n",
      "  inflating: B0025.mat               \n",
      "  inflating: B0026.mat               \n",
      "  inflating: B0027.mat               \n",
      "  inflating: B0028.mat               \n",
      "  inflating: B0029.mat               \n",
      "  inflating: B0030.mat               \n",
      "  inflating: B0031.mat               \n",
      "  inflating: B0032.mat               \n",
      "  inflating: B0033.mat               \n",
      "  inflating: B0034.mat               \n",
      "  inflating: B0036.mat               \n",
      "  inflating: B0038.mat               \n",
      "  inflating: B0039.mat               \n",
      "  inflating: B0040.mat               \n",
      "  inflating: B0041.mat               \n",
      "  inflating: B0042.mat               \n",
      "  inflating: B0043.mat               \n",
      "  inflating: B0044.mat               \n",
      "  inflating: README_25_26_27_28.txt  \n",
      "  inflating: README_29_30_31_32.txt  \n",
      "Archive:  ./5. BatteryAgingARC_49_50_51_52.zip\n",
      "  inflating: README_49_50_51_52.txt  \n",
      "  inflating: B0049.mat               \n",
      "  inflating: B0050.mat               \n",
      "  inflating: B0051.mat               \n",
      "  inflating: B0052.mat               \n",
      "Archive:  ./2. BatteryAgingARC_25_26_27_28_P1.zip\n",
      "  inflating: B0028.mat               \n",
      "  inflating: README.txt              \n",
      "  inflating: B0025.mat               \n",
      "  inflating: B0026.mat               \n",
      "  inflating: B0027.mat               \n",
      "Archive:  ./4. BatteryAgingARC_45_46_47_48.zip\n",
      "  inflating: README_45_46_47_48.txt  \n",
      "  inflating: B0045.mat               \n",
      "  inflating: B0046.mat               \n",
      "  inflating: B0047.mat               \n",
      "  inflating: B0048.mat               \n",
      "Archive:  ./1. BatteryAgingARC-FY08Q4.zip\n",
      "  inflating: B0007.mat               \n",
      "  inflating: B0018.mat               \n",
      "  inflating: README.txt              \n",
      "  inflating: B0005.mat               \n",
      "  inflating: B0006.mat               \n",
      "Archive:  ./6. BatteryAgingARC_53_54_55_56.zip\n",
      "  inflating: README_53_54_55_56.txt  \n",
      "  inflating: B0053.mat               \n",
      "  inflating: B0054.mat               \n",
      "  inflating: B0055.mat               \n",
      "  inflating: B0056.mat               \n"
     ]
    }
   ],
   "source": [
    "%matplotlib inline\n",
    "!wget https://phm-datasets.s3.amazonaws.com/NASA/5.+Battery+Data+Set.zip -O battery_data.zip\n",
    "!unzip -o battery_data.zip \n",
    "!rm battery_data.zip\n",
    "!cd \"5. Battery Data Set\" \n",
    "!find \"5. Battery Data Set\" -name \"*.zip\" -execdir unzip -o {} \\;"
   ]
  },
  {
   "cell_type": "code",
   "execution_count": 2,
   "metadata": {},
   "outputs": [],
   "source": [
    "import datetime\n",
    "import numpy as np\n",
    "import pandas as pd\n",
    "import xgboost as xgb\n",
    "from scipy.io import loadmat\n",
    "from sklearn.linear_model import LinearRegression\n",
    "from sklearn.metrics import mean_squared_error\n",
    "# from sklearn.preprocessing import MinMaxScaler\n",
    "# from sklearn.metrics import mean_squared_error\n",
    "# from sklearn import metrics\n",
    "# import matplotlib.pyplot as plt\n",
    "# import seaborn as sns"
   ]
  },
  {
   "cell_type": "code",
   "execution_count": 3,
   "metadata": {},
   "outputs": [
    {
     "name": "stdout",
     "output_type": "stream",
     "text": [
      "   cycle  ambient_temperature            datetime  capacity  voltage_measured  \\\n",
      "0      1                   24 2008-04-02 15:25:41  1.856487          4.191492   \n",
      "1      1                   24 2008-04-02 15:25:41  1.856487          4.190749   \n",
      "2      1                   24 2008-04-02 15:25:41  1.856487          3.974871   \n",
      "3      1                   24 2008-04-02 15:25:41  1.856487          3.951717   \n",
      "4      1                   24 2008-04-02 15:25:41  1.856487          3.934352   \n",
      "\n",
      "   current_measured  temperature_measured  current_load  voltage_load    time  \n",
      "0         -0.004902             24.330034       -0.0006         0.000   0.000  \n",
      "1         -0.001478             24.325993       -0.0006         4.206  16.781  \n",
      "2         -2.012528             24.389085       -1.9982         3.062  35.703  \n",
      "3         -2.013979             24.544752       -1.9982         3.030  53.781  \n",
      "4         -2.011144             24.731385       -1.9982         3.011  71.922  \n",
      "   cycle  ambient_temperature            datetime  capacity  voltage_measured  \\\n",
      "0      1                   24 2008-04-02 15:25:41  2.035338          4.179800   \n",
      "1      1                   24 2008-04-02 15:25:41  2.035338          4.179823   \n",
      "2      1                   24 2008-04-02 15:25:41  2.035338          3.966528   \n",
      "3      1                   24 2008-04-02 15:25:41  2.035338          3.945886   \n",
      "4      1                   24 2008-04-02 15:25:41  2.035338          3.930354   \n",
      "\n",
      "   current_measured  temperature_measured  current_load  voltage_load    time  \n",
      "0         -0.002366             24.277568       -0.0006         0.000   0.000  \n",
      "1          0.000434             24.277073       -0.0006         4.195  16.781  \n",
      "2         -2.014242             24.366226       -1.9990         3.070  35.703  \n",
      "3         -2.008730             24.515123       -1.9990         3.045  53.781  \n",
      "4         -2.013381             24.676053       -1.9990         3.026  71.922  \n"
     ]
    }
   ],
   "source": [
    "def load_data(battery):\n",
    "  mat = loadmat('5. Battery Data Set/' + battery + '.mat')\n",
    "  counter = 0\n",
    "  dataset = []\n",
    "  capacity_data = []\n",
    "  \n",
    "  for i in range(len(mat[battery][0, 0]['cycle'][0])):\n",
    "    row = mat[battery][0, 0]['cycle'][0, i]\n",
    "    if row['type'][0] == 'discharge':\n",
    "      ambient_temperature = row['ambient_temperature'][0][0]\n",
    "      date_time = datetime.datetime(int(row['time'][0][0]),\n",
    "                               int(row['time'][0][1]),\n",
    "                               int(row['time'][0][2]),\n",
    "                               int(row['time'][0][3]),\n",
    "                               int(row['time'][0][4])) + datetime.timedelta(seconds=int(row['time'][0][5]))\n",
    "      data = row['data']\n",
    "      capacity = data[0][0]['Capacity'][0][0]\n",
    "\n",
    "      for j in range(len(data[0][0]['Voltage_measured'][0])):\n",
    "        voltage_measured = data[0][0]['Voltage_measured'][0][j]\n",
    "        current_measured = data[0][0]['Current_measured'][0][j]\n",
    "        temperature_measured = data[0][0]['Temperature_measured'][0][j]\n",
    "        current_load = data[0][0]['Current_load'][0][j]\n",
    "        voltage_load = data[0][0]['Voltage_load'][0][j]\n",
    "        time = data[0][0]['Time'][0][j]\n",
    "        dataset.append([counter + 1, ambient_temperature, date_time, capacity,\n",
    "                        voltage_measured, current_measured,\n",
    "                        temperature_measured, current_load,\n",
    "                        voltage_load, time])\n",
    "      \n",
    "      capacity_data.append([counter + 1, ambient_temperature, date_time, capacity])\n",
    "      counter = counter + 1\n",
    "\n",
    "  return [pd.DataFrame(data=dataset,\n",
    "                       columns=['cycle', 'ambient_temperature', 'datetime',\n",
    "                                'capacity', 'voltage_measured',\n",
    "                                'current_measured', 'temperature_measured',\n",
    "                                'current_load', 'voltage_load', 'time']),\n",
    "          pd.DataFrame(data=capacity_data,\n",
    "                       columns=['cycle', 'ambient_temperature', 'datetime',\n",
    "                                'capacity'])]\n",
    "\n",
    "t_ds, t_c_ds = load_data('B0005')\n",
    "v_ds, v_c_ds = load_data('B0006')\n",
    "print(t_ds.head())\n",
    "print(v_ds.head())"
   ]
  },
  {
   "cell_type": "code",
   "execution_count": 4,
   "metadata": {},
   "outputs": [
    {
     "name": "stdout",
     "output_type": "stream",
     "text": [
      "None\n",
      "None\n"
     ]
    }
   ],
   "source": [
    "#removing columns with constant values\n",
    "def remove_constant_columns(ds):\n",
    "  for col in ds.columns:\n",
    "    if ds[col].unique().size == 1:\n",
    "      dropped_cols = ds.drop([col], axis=1, inplace=True)\n",
    "      print(dropped_cols)\n",
    "  return ds\n",
    "\n",
    "t_ds = remove_constant_columns(t_ds)\n",
    "v_ds = remove_constant_columns(v_ds)"
   ]
  },
  {
   "cell_type": "code",
   "execution_count": 5,
   "metadata": {},
   "outputs": [
    {
     "data": {
      "text/plain": [
       "cycle                     int64\n",
       "capacity                float64\n",
       "voltage_measured        float64\n",
       "current_measured        float64\n",
       "temperature_measured    float64\n",
       "current_load            float64\n",
       "voltage_load            float64\n",
       "time                    float64\n",
       "dtype: object"
      ]
     },
     "execution_count": 5,
     "metadata": {},
     "output_type": "execute_result"
    }
   ],
   "source": [
    "#dtype inspection\n",
    "t_ds.drop(['datetime'], axis=1, inplace=True)\n",
    "v_ds.drop(['datetime'], axis=1, inplace=True)\n",
    "\n",
    "t_ds.dtypes\n",
    "v_ds.dtypes"
   ]
  },
  {
   "cell_type": "code",
   "execution_count": 6,
   "metadata": {},
   "outputs": [],
   "source": [
    "t_ds.replace(' ', '_', regex=True, inplace=True)\n",
    "v_ds.replace(' ', '_', regex=True, inplace=True)"
   ]
  },
  {
   "cell_type": "code",
   "execution_count": 7,
   "metadata": {},
   "outputs": [
    {
     "data": {
      "text/plain": [
       "0    1.856487\n",
       "1    1.856487\n",
       "2    1.856487\n",
       "3    1.856487\n",
       "4    1.856487\n",
       "Name: capacity, dtype: float64"
      ]
     },
     "execution_count": 7,
     "metadata": {},
     "output_type": "execute_result"
    }
   ],
   "source": [
    "t_X = t_ds.drop(['capacity'], axis=1)\n",
    "t_X.head()\n",
    "\n",
    "t_y = t_ds['capacity'].copy()\n",
    "t_y.head()"
   ]
  },
  {
   "cell_type": "code",
   "execution_count": 8,
   "metadata": {},
   "outputs": [
    {
     "data": {
      "text/plain": [
       "0    2.035338\n",
       "1    2.035338\n",
       "2    2.035338\n",
       "3    2.035338\n",
       "4    2.035338\n",
       "Name: capacity, dtype: float64"
      ]
     },
     "execution_count": 8,
     "metadata": {},
     "output_type": "execute_result"
    }
   ],
   "source": [
    "v_X = v_ds.drop(['capacity'], axis=1)\n",
    "v_X.head()\n",
    "\n",
    "v_y = v_ds['capacity'].copy()\n",
    "v_y.head()"
   ]
  },
  {
   "cell_type": "code",
   "execution_count": 9,
   "metadata": {},
   "outputs": [
    {
     "name": "stdout",
     "output_type": "stream",
     "text": [
      "Mean squared error:  0.006075879005060876\n"
     ]
    }
   ],
   "source": [
    "# Create a linear regression object\n",
    "lr = LinearRegression()\n",
    "\n",
    "# Train the model using the training data\n",
    "lr.fit(t_X, t_y)\n",
    "\n",
    "# Make predictions on the verification data\n",
    "v_y_pred = lr.predict(v_X)\n",
    "\n",
    "# Calculate the mean squared error of the predictions\n",
    "mse = mean_squared_error(v_y, v_y_pred)\n",
    "\n",
    "print(\"Mean squared error: \", mse)\n"
   ]
  },
  {
   "cell_type": "code",
   "execution_count": 10,
   "metadata": {},
   "outputs": [
    {
     "name": "stdout",
     "output_type": "stream",
     "text": [
      "Training set score: 0.98\n",
      "[1.90246948 1.91239608 1.88171887 ... 1.24964585 1.25009823 1.25062327]\n",
      "[1.90234254 1.91225044 1.88159845 ... 1.25658842 1.25692701 1.25721152]\n"
     ]
    }
   ],
   "source": [
    "# Assuming you have trained a linear regression model called \"model\"\n",
    "y_pred_train = lr.predict(t_X)\n",
    "y_pred_test = lr.predict(v_X)\n",
    "\n",
    "print (\"Training set score: {:.2f}\".format(lr.score(t_X, t_y)))\n",
    "\n",
    "print (y_pred_train)\n",
    "print (y_pred_test)\n"
   ]
  },
  {
   "attachments": {},
   "cell_type": "markdown",
   "metadata": {},
   "source": [
    "#creds to https://www.kaggle.com/rajeevsharma993"
   ]
  }
 ],
 "metadata": {
  "kernelspec": {
   "display_name": "Python 3",
   "language": "python",
   "name": "python3"
  },
  "language_info": {
   "codemirror_mode": {
    "name": "ipython",
    "version": 3
   },
   "file_extension": ".py",
   "mimetype": "text/x-python",
   "name": "python",
   "nbconvert_exporter": "python",
   "pygments_lexer": "ipython3",
   "version": "3.10.4"
  },
  "orig_nbformat": 4
 },
 "nbformat": 4,
 "nbformat_minor": 2
}
